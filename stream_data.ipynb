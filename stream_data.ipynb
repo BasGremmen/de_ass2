{
 "cells": [
  {
   "cell_type": "code",
   "execution_count": 1,
   "id": "2393d1f1",
   "metadata": {},
   "outputs": [],
   "source": [
    "import websocket\n",
    "import json\n",
    "from kafka import KafkaProducer\n",
    "api_key = 'AC857EEF-D841-4FF7-BE8E-61121010D85A' #your api key"
   ]
  },
  {
   "cell_type": "code",
   "execution_count": 2,
   "id": "563e563f",
   "metadata": {
    "scrolled": true
   },
   "outputs": [
    {
     "ename": "NoBrokersAvailable",
     "evalue": "NoBrokersAvailable",
     "output_type": "error",
     "traceback": [
      "\u001B[1;31m---------------------------------------------------------------------------\u001B[0m",
      "\u001B[1;31mNoBrokersAvailable\u001B[0m                        Traceback (most recent call last)",
      "\u001B[1;32m<ipython-input-2-02bd69751d2f>\u001B[0m in \u001B[0;36m<module>\u001B[1;34m\u001B[0m\n\u001B[0;32m     24\u001B[0m \u001B[1;33m\u001B[0m\u001B[0m\n\u001B[0;32m     25\u001B[0m \u001B[1;32mif\u001B[0m \u001B[0m__name__\u001B[0m\u001B[1;33m==\u001B[0m\u001B[1;34m\"__main__\"\u001B[0m\u001B[1;33m:\u001B[0m\u001B[1;33m\u001B[0m\u001B[1;33m\u001B[0m\u001B[0m\n\u001B[1;32m---> 26\u001B[1;33m     \u001B[0mproducer\u001B[0m \u001B[1;33m=\u001B[0m \u001B[0mKafkaProducer\u001B[0m\u001B[1;33m(\u001B[0m\u001B[0mbootstrap_servers\u001B[0m\u001B[1;33m=\u001B[0m\u001B[1;34m'35.188.19.170:9092'\u001B[0m\u001B[1;33m)\u001B[0m \u001B[1;31m#VM's external IP\u001B[0m\u001B[1;33m\u001B[0m\u001B[1;33m\u001B[0m\u001B[0m\n\u001B[0m\u001B[0;32m     27\u001B[0m     ws = websocket.WebSocketApp(\"ws://ws.coinapi.io/v1/\",\n\u001B[0;32m     28\u001B[0m                                \u001B[0mon_open\u001B[0m\u001B[1;33m=\u001B[0m\u001B[0mon_open\u001B[0m\u001B[1;33m,\u001B[0m\u001B[1;33m\u001B[0m\u001B[1;33m\u001B[0m\u001B[0m\n",
      "\u001B[1;32m~\\anaconda3\\lib\\site-packages\\kafka\\producer\\kafka.py\u001B[0m in \u001B[0;36m__init__\u001B[1;34m(self, **configs)\u001B[0m\n\u001B[0;32m    379\u001B[0m         \u001B[0mself\u001B[0m\u001B[1;33m.\u001B[0m\u001B[0m_metrics\u001B[0m \u001B[1;33m=\u001B[0m \u001B[0mMetrics\u001B[0m\u001B[1;33m(\u001B[0m\u001B[0mmetric_config\u001B[0m\u001B[1;33m,\u001B[0m \u001B[0mreporters\u001B[0m\u001B[1;33m)\u001B[0m\u001B[1;33m\u001B[0m\u001B[1;33m\u001B[0m\u001B[0m\n\u001B[0;32m    380\u001B[0m \u001B[1;33m\u001B[0m\u001B[0m\n\u001B[1;32m--> 381\u001B[1;33m         client = KafkaClient(metrics=self._metrics, metric_group_prefix='producer',\n\u001B[0m\u001B[0;32m    382\u001B[0m                              \u001B[0mwakeup_timeout_ms\u001B[0m\u001B[1;33m=\u001B[0m\u001B[0mself\u001B[0m\u001B[1;33m.\u001B[0m\u001B[0mconfig\u001B[0m\u001B[1;33m[\u001B[0m\u001B[1;34m'max_block_ms'\u001B[0m\u001B[1;33m]\u001B[0m\u001B[1;33m,\u001B[0m\u001B[1;33m\u001B[0m\u001B[1;33m\u001B[0m\u001B[0m\n\u001B[0;32m    383\u001B[0m                              **self.config)\n",
      "\u001B[1;32m~\\anaconda3\\lib\\site-packages\\kafka\\client_async.py\u001B[0m in \u001B[0;36m__init__\u001B[1;34m(self, **configs)\u001B[0m\n\u001B[0;32m    242\u001B[0m         \u001B[1;32mif\u001B[0m \u001B[0mself\u001B[0m\u001B[1;33m.\u001B[0m\u001B[0mconfig\u001B[0m\u001B[1;33m[\u001B[0m\u001B[1;34m'api_version'\u001B[0m\u001B[1;33m]\u001B[0m \u001B[1;32mis\u001B[0m \u001B[1;32mNone\u001B[0m\u001B[1;33m:\u001B[0m\u001B[1;33m\u001B[0m\u001B[1;33m\u001B[0m\u001B[0m\n\u001B[0;32m    243\u001B[0m             \u001B[0mcheck_timeout\u001B[0m \u001B[1;33m=\u001B[0m \u001B[0mself\u001B[0m\u001B[1;33m.\u001B[0m\u001B[0mconfig\u001B[0m\u001B[1;33m[\u001B[0m\u001B[1;34m'api_version_auto_timeout_ms'\u001B[0m\u001B[1;33m]\u001B[0m \u001B[1;33m/\u001B[0m \u001B[1;36m1000\u001B[0m\u001B[1;33m\u001B[0m\u001B[1;33m\u001B[0m\u001B[0m\n\u001B[1;32m--> 244\u001B[1;33m             \u001B[0mself\u001B[0m\u001B[1;33m.\u001B[0m\u001B[0mconfig\u001B[0m\u001B[1;33m[\u001B[0m\u001B[1;34m'api_version'\u001B[0m\u001B[1;33m]\u001B[0m \u001B[1;33m=\u001B[0m \u001B[0mself\u001B[0m\u001B[1;33m.\u001B[0m\u001B[0mcheck_version\u001B[0m\u001B[1;33m(\u001B[0m\u001B[0mtimeout\u001B[0m\u001B[1;33m=\u001B[0m\u001B[0mcheck_timeout\u001B[0m\u001B[1;33m)\u001B[0m\u001B[1;33m\u001B[0m\u001B[1;33m\u001B[0m\u001B[0m\n\u001B[0m\u001B[0;32m    245\u001B[0m \u001B[1;33m\u001B[0m\u001B[0m\n\u001B[0;32m    246\u001B[0m     \u001B[1;32mdef\u001B[0m \u001B[0m_can_bootstrap\u001B[0m\u001B[1;33m(\u001B[0m\u001B[0mself\u001B[0m\u001B[1;33m)\u001B[0m\u001B[1;33m:\u001B[0m\u001B[1;33m\u001B[0m\u001B[1;33m\u001B[0m\u001B[0m\n",
      "\u001B[1;32m~\\anaconda3\\lib\\site-packages\\kafka\\client_async.py\u001B[0m in \u001B[0;36mcheck_version\u001B[1;34m(self, node_id, timeout, strict)\u001B[0m\n\u001B[0;32m    925\u001B[0m         \u001B[1;32melse\u001B[0m\u001B[1;33m:\u001B[0m\u001B[1;33m\u001B[0m\u001B[1;33m\u001B[0m\u001B[0m\n\u001B[0;32m    926\u001B[0m             \u001B[0mself\u001B[0m\u001B[1;33m.\u001B[0m\u001B[0m_lock\u001B[0m\u001B[1;33m.\u001B[0m\u001B[0mrelease\u001B[0m\u001B[1;33m(\u001B[0m\u001B[1;33m)\u001B[0m\u001B[1;33m\u001B[0m\u001B[1;33m\u001B[0m\u001B[0m\n\u001B[1;32m--> 927\u001B[1;33m             \u001B[1;32mraise\u001B[0m \u001B[0mErrors\u001B[0m\u001B[1;33m.\u001B[0m\u001B[0mNoBrokersAvailable\u001B[0m\u001B[1;33m(\u001B[0m\u001B[1;33m)\u001B[0m\u001B[1;33m\u001B[0m\u001B[1;33m\u001B[0m\u001B[0m\n\u001B[0m\u001B[0;32m    928\u001B[0m \u001B[1;33m\u001B[0m\u001B[0m\n\u001B[0;32m    929\u001B[0m     \u001B[1;32mdef\u001B[0m \u001B[0mwakeup\u001B[0m\u001B[1;33m(\u001B[0m\u001B[0mself\u001B[0m\u001B[1;33m)\u001B[0m\u001B[1;33m:\u001B[0m\u001B[1;33m\u001B[0m\u001B[1;33m\u001B[0m\u001B[0m\n",
      "\u001B[1;31mNoBrokersAvailable\u001B[0m: NoBrokersAvailable"
     ]
    }
   ],
   "source": [
    "class CoinAPIv1_subscribe(object):\n",
    "    def __init__(self, apikey):\n",
    "        self.type = \"hello\"\n",
    "        self.apikey = apikey\n",
    "        self.heartbeat = True\n",
    "        self.subscribe_data_type = [\"trade\"]\n",
    "        self.taker_side = [\"BUY\"]\n",
    "\n",
    "def on_message(ws, message):\n",
    "    msg = json.loads(message)\n",
    "    producer.send('trade', bytes(msg, encoding='utf-8'))\n",
    "    print(\"Sending \" + msg)\n",
    "    producer.flush(timeout=60)\n",
    "    \n",
    "def on_error(ws, message):\n",
    "    print(message)\n",
    "    \n",
    "def on_close(ws, close_status_code, close_msg):\n",
    "    print(\"### closed ###\")\n",
    "    \n",
    "def on_open(ws):\n",
    "    sub = CoinAPIv1_subscribe(api_key)\n",
    "    ws.send(json.dumps(sub.__dict__))\n",
    "\n",
    "if __name__==\"__main__\":\n",
    "    producer = KafkaProducer(bootstrap_servers='35.188.19.170:9092') #VM's external IP\n",
    "    ws = websocket.WebSocketApp(\"ws://ws.coinapi.io/v1/\",\n",
    "                               on_open=on_open,\n",
    "                               on_message=on_message,\n",
    "                               on_error=on_error,\n",
    "                               on_close=on_close)\n",
    "    ws.run_forever()"
   ]
  }
 ],
 "metadata": {
  "kernelspec": {
   "display_name": "Python 3 (ipykernel)",
   "language": "python",
   "name": "python3"
  },
  "language_info": {
   "codemirror_mode": {
    "name": "ipython",
    "version": 3
   },
   "file_extension": ".py",
   "mimetype": "text/x-python",
   "name": "python",
   "nbconvert_exporter": "python",
   "pygments_lexer": "ipython3",
   "version": "3.8.12"
  }
 },
 "nbformat": 4,
 "nbformat_minor": 5
}