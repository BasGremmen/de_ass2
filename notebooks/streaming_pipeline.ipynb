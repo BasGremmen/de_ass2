{
 "cells": [
  {
   "cell_type": "code",
   "execution_count": 1,
   "metadata": {
    "collapsed": true
   },
   "outputs": [
    {
     "ename": "ModuleNotFoundError",
     "evalue": "No module named 'pyspark'",
     "output_type": "error",
     "traceback": [
      "\u001B[1;31m---------------------------------------------------------------------------\u001B[0m",
      "\u001B[1;31mModuleNotFoundError\u001B[0m                       Traceback (most recent call last)",
      "\u001B[1;32m<ipython-input-1-66db9877a541>\u001B[0m in \u001B[0;36m<module>\u001B[1;34m\u001B[0m\n\u001B[1;32m----> 1\u001B[1;33m \u001B[1;32mfrom\u001B[0m \u001B[0mpyspark\u001B[0m \u001B[1;32mimport\u001B[0m \u001B[0mSparkConf\u001B[0m\u001B[1;33m\u001B[0m\u001B[1;33m\u001B[0m\u001B[0m\n\u001B[0m\u001B[0;32m      2\u001B[0m \u001B[1;32mfrom\u001B[0m \u001B[0mpyspark\u001B[0m\u001B[1;33m.\u001B[0m\u001B[0msql\u001B[0m \u001B[1;32mimport\u001B[0m \u001B[0mSparkSession\u001B[0m\u001B[1;33m\u001B[0m\u001B[1;33m\u001B[0m\u001B[0m\n\u001B[0;32m      3\u001B[0m \u001B[1;32mfrom\u001B[0m \u001B[0mpyspark\u001B[0m\u001B[1;33m.\u001B[0m\u001B[0msql\u001B[0m\u001B[1;33m.\u001B[0m\u001B[0mfunctions\u001B[0m \u001B[1;32mimport\u001B[0m \u001B[0mexplode\u001B[0m\u001B[1;33m,\u001B[0m \u001B[0msplit\u001B[0m\u001B[1;33m,\u001B[0m \u001B[0mconcat\u001B[0m\u001B[1;33m,\u001B[0m \u001B[0mcol\u001B[0m\u001B[1;33m,\u001B[0m \u001B[0mlit\u001B[0m\u001B[1;33m,\u001B[0m \u001B[0mfrom_json\u001B[0m\u001B[1;33m,\u001B[0m \u001B[0mwindow\u001B[0m\u001B[1;33m,\u001B[0m \u001B[0msum\u001B[0m\u001B[1;33m,\u001B[0m \u001B[0mto_json\u001B[0m\u001B[1;33m,\u001B[0m \u001B[0mstruct\u001B[0m\u001B[1;33m,\u001B[0m \u001B[0mcount\u001B[0m\u001B[1;33m\u001B[0m\u001B[1;33m\u001B[0m\u001B[0m\n\u001B[0;32m      4\u001B[0m \u001B[1;32mfrom\u001B[0m \u001B[0mpyspark\u001B[0m\u001B[1;33m.\u001B[0m\u001B[0msql\u001B[0m\u001B[1;33m.\u001B[0m\u001B[0mfunctions\u001B[0m \u001B[1;32mimport\u001B[0m \u001B[0mslice\u001B[0m \u001B[1;32mas\u001B[0m \u001B[0mF_slice\u001B[0m\u001B[1;33m\u001B[0m\u001B[1;33m\u001B[0m\u001B[0m\n\u001B[0;32m      5\u001B[0m \u001B[1;32mfrom\u001B[0m \u001B[0mpyspark\u001B[0m\u001B[1;33m.\u001B[0m\u001B[0msql\u001B[0m\u001B[1;33m.\u001B[0m\u001B[0mtypes\u001B[0m \u001B[1;32mimport\u001B[0m \u001B[0mStructType\u001B[0m\u001B[1;33m,\u001B[0m \u001B[0mStructField\u001B[0m\u001B[1;33m,\u001B[0m \u001B[0mLongType\u001B[0m\u001B[1;33m,\u001B[0m \u001B[0mStringType\u001B[0m\u001B[1;33m,\u001B[0m \u001B[0mDoubleType\u001B[0m\u001B[1;33m,\u001B[0m \u001B[0mTimestampType\u001B[0m\u001B[1;33m,\u001B[0m \u001B[0mMapType\u001B[0m\u001B[1;33m,\u001B[0m \u001B[0mIntegerType\u001B[0m\u001B[1;33m,\u001B[0m \u001B[0mArrayType\u001B[0m\u001B[1;33m\u001B[0m\u001B[1;33m\u001B[0m\u001B[0m\n",
      "\u001B[1;31mModuleNotFoundError\u001B[0m: No module named 'pyspark'"
     ]
    }
   ],
   "source": [
    "from pyspark import SparkConf\n",
    "from pyspark.sql import SparkSession\n",
    "from pyspark.sql.functions import explode, split, concat, col, lit, from_json, window, sum, to_json, struct, count\n",
    "from pyspark.sql.functions import slice as F_slice\n",
    "from pyspark.sql.types import StructType, StructField, LongType, StringType, DoubleType, TimestampType, MapType, IntegerType, ArrayType\n",
    "from time import sleep\n",
    "\n",
    "sparkConf = SparkConf()\n",
    "sparkConf.setMaster(\"spark://spark-master:7077\")\n",
    "sparkConf.setAppName(\"Batch_process\")\n",
    "sparkConf.set(\"spark.driver.memory\", \"2g\")\n",
    "sparkConf.set(\"spark.executor.cores\", \"1\")\n",
    "sparkConf.set(\"spark.driver.cores\", \"1\")\n",
    "\n",
    "# create the spark session, which is the entry point to Spark SQL engine.\n",
    "spark = SparkSession.builder.config(conf=sparkConf).getOrCreate()\n",
    "\n",
    "# Structure of the expected data\n",
    "schema = StructType([\n",
    "     StructField('type', StringType(), True),\n",
    "     StructField('symbol_id', StringType(), True),\n",
    "     StructField('sequence', IntegerType(), True),\n",
    "     StructField('time_exchange', TimestampType(), True),\n",
    "     StructField('time_coinapi', TimestampType(), True),\n",
    "     StructField('uuid', StringType(), True),\n",
    "     StructField('price', DoubleType(), True),\n",
    "     StructField('size', DoubleType(), True),\n",
    "     StructField('taker_side', StringType(), True),\n",
    "     ])\n",
    "\n",
    "# Spark dataframe, reading the trade topic\n",
    "df = spark \\\n",
    "        .readStream \\\n",
    "        .format(\"kafka\") \\\n",
    "        .option(\"kafka.bootstrap.servers\", \"kafka1:9093\") \\\n",
    "        .option(\"subscribe\", \"trade\") \\\n",
    "        .option(\"startingOffsets\", \"latest\") \\\n",
    "        .option(\"failOnDataLoss\", \"false\") \\\n",
    "        .load()\n",
    "\n",
    "# Cast kafka value to string, cast the JSON formatted string to the structure we want, then unnest (data.* => *)\n",
    "trades = df.select(col('value').cast('string')).select(from_json(col('value'), schema).alias('data')).select('data.*')\n",
    "\n",
    "# Select columns that we are interested in\n",
    "reduced_trades = trades.select(['symbol_id', 'time_coinapi', 'size', 'taker_side', 'uuid'])\n",
    "\n",
    "# Watermark the data to get clean results, group by minute, symbol_id and taker side\n",
    "# Then take the sum of the size and count all the unique trades\n",
    "# Make the results more readable\n",
    "trades_aggregated = reduced_trades.withWatermark('time_coinapi', '1 minutes') \\\n",
    "              .groupBy(window(col('time_coinapi'), '1 minutes'), col('symbol_id'), 'taker_side') \\\n",
    "              .agg(sum(col('size')), count(col('uuid'))) \\\n",
    "              .select(col('sum(size)').alias('size'), col('symbol_id'), col('window').alias('time_frame'), col('count(uuid)').alias('count'), col('taker_side'))\n",
    "\n",
    "# Add a column consisting of 4 elements based on the split symbol_id columns' first 4 elements\n",
    "trades_symbol_split = trades_aggregated.withColumn('symbol_parts', F_slice(split(col('symbol_id'), '_'), 1, 4))\n",
    "\n",
    "# Unnest the columns and drop the nested symbol_parts column\n",
    "# Then turn the columns as a whole into 1 JSON formatted string column called value\n",
    "trades_clean = trades_symbol_split\\\n",
    "            .withColumn(\"broker\", col('symbol_parts')[0])\\\n",
    "            .withColumn(\"symbol_type\", col('symbol_parts')[1])\\\n",
    "            .withColumn(\"asset\", col('symbol_parts')[2])\\\n",
    "            .withColumn(\"asset_quote\", col('symbol_parts')[3])\\\n",
    "            .drop('symbol_parts')\\\n",
    "            .select(to_json(struct('*')).alias('value'))\n",
    "\n",
    "# Every minute, write the new batch to the trades_aggregated topic\n",
    "query = trades_clean.writeStream \\\n",
    "              .trigger(processingTime='1 minutes')\\\n",
    "              .format(\"kafka\") \\\n",
    "              .option(\"kafka.bootstrap.servers\", \"kafka1:9093\") \\\n",
    "              .option(\"checkpointLocation\", \"/home/jovyan/checkpoint\")\\\n",
    "              .option(\"topic\", \"trades_aggregated\") \\\n",
    "              .outputMode(\"complete\") \\\n",
    "              .start()\n",
    "\n",
    "query.awaitTermination()"
   ]
  },
  {
   "cell_type": "code",
   "execution_count": null,
   "outputs": [],
   "source": [
    "spark.stop()"
   ],
   "metadata": {
    "collapsed": false,
    "pycharm": {
     "name": "#%%\n"
    }
   }
  }
 ],
 "metadata": {
  "kernelspec": {
   "display_name": "Python 3",
   "language": "python",
   "name": "python3"
  },
  "language_info": {
   "codemirror_mode": {
    "name": "ipython",
    "version": 2
   },
   "file_extension": ".py",
   "mimetype": "text/x-python",
   "name": "python",
   "nbconvert_exporter": "python",
   "pygments_lexer": "ipython2",
   "version": "2.7.6"
  }
 },
 "nbformat": 4,
 "nbformat_minor": 0
}