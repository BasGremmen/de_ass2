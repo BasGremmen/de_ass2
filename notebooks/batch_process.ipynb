{
 "cells": [
  {
   "cell_type": "code",
   "execution_count": null,
   "metadata": {
    "collapsed": true
   },
   "outputs": [],
   "source": [
    "from pyspark import SparkConf\n",
    "from pyspark.sql import SparkSession\n",
    "from pyspark.sql.functions import explode, split, concat, col, lit, from_json, window\n",
    "from pyspark.sql.types import StructType, StructField, LongType, StringType, DoubleType, TimestampType, MapType\n",
    "from time import sleep\n",
    "\n",
    "sparkConf = SparkConf()\n",
    "sparkConf.setMaster(\"spark://spark-master:7077\")\n",
    "sparkConf.setAppName(\"Batch_process\")\n",
    "sparkConf.set(\"spark.driver.memory\", \"2g\")\n",
    "sparkConf.set(\"spark.executor.cores\", \"1\")\n",
    "sparkConf.set(\"spark.driver.cores\", \"1\")\n",
    "\n",
    "# create the spark session, which is the entry point to Spark SQL engine.\n",
    "spark = SparkSession.builder.config(conf=sparkConf).getOrCreate()\n",
    "# Read the whole dataset as a batch\n",
    "\n",
    "schema = StructType([\n",
    "     StructField('type', StringType(), True),\n",
    "     StructField('symbol_id', StringType(), True),\n",
    "     StructField('sequence', StringType(), True),\n",
    "     StructField('time_exchange', TimestampType(), True),\n",
    "     StructField('time_coinapi', TimestampType(), True),\n",
    "     StructField('uuid', StringType(), True),\n",
    "     StructField('price', DoubleType(), True),\n",
    "     StructField('size', DoubleType(), True),\n",
    "     StructField('taker_side', StringType(), True),\n",
    "\n",
    "     ])\n",
    "\n",
    "df = spark \\\n",
    "        .readStream \\\n",
    "        .format(\"kafka\") \\\n",
    "        .option(\"kafka.bootstrap.servers\", \"kafka1:9093\") \\\n",
    "        .option(\"subscribe\", \"trade\") \\\n",
    "        .option(\"startingOffsets\", \"earliest\") \\\n",
    "        .option(\"failOnDataLoss\", \"false\") \\\n",
    "        .load()\n",
    "\n",
    "df.printSchema()\n",
    "trades = df.select(col('value').cast('string')).select(from_json(col('value'), schema).alias('data')).select('data.*')\n",
    "trades.printSchema()\n",
    "\n",
    "\n",
    "query = trades.withWatermark('time_exchange', '30 seconds') \\\n",
    "              .groupBy(window(col('time_exchange'), '15 minutes', '10 seconds')) \\\n",
    "              .count() \\\n",
    "              .select(concat(col('window').cast('string'), lit(' '), col('count').cast('string')).alias('value')) \\\n",
    "              .writeStream \\\n",
    "              .format(\"kafka\") \\\n",
    "              .option(\"kafka.bootstrap.servers\", \"kafka1:9093\") \\\n",
    "              .option(\"checkpointLocation\", \"/home/jovyan/checkpoint\")\\\n",
    "              .option(\"topic\", \"trade_echo\") \\\n",
    "              .outputMode('complete') \\\n",
    "              .start()\n",
    "query.awaitTermination()"
   ]
  },
  {
   "cell_type": "code",
   "execution_count": null,
   "outputs": [],
   "source": [
    "spark.stop()"
   ],
   "metadata": {
    "collapsed": false,
    "pycharm": {
     "name": "#%%\n"
    }
   }
  }
 ],
 "metadata": {
  "kernelspec": {
   "display_name": "Python 3",
   "language": "python",
   "name": "python3"
  },
  "language_info": {
   "codemirror_mode": {
    "name": "ipython",
    "version": 2
   },
   "file_extension": ".py",
   "mimetype": "text/x-python",
   "name": "python",
   "nbconvert_exporter": "python",
   "pygments_lexer": "ipython2",
   "version": "2.7.6"
  }
 },
 "nbformat": 4,
 "nbformat_minor": 0
}