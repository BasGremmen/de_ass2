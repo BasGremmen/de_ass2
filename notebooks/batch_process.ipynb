{
 "cells": [
  {
   "cell_type": "code",
   "execution_count": null,
   "metadata": {
    "collapsed": true
   },
   "outputs": [],
   "source": [
    "from pyspark import SparkConf\n",
    "from pyspark.sql import SparkSession\n",
    "from pyspark.sql.functions import explode, split, concat, col, lit, from_json, window, sum, to_json, struct\n",
    "from pyspark.sql.functions import slice as F_slice\n",
    "from pyspark.sql.types import StructType, StructField, LongType, StringType, DoubleType, TimestampType, MapType, IntegerType, ArrayType\n",
    "from time import sleep\n",
    "\n",
    "sparkConf = SparkConf()\n",
    "sparkConf.setMaster(\"spark://spark-master:7077\")\n",
    "sparkConf.setAppName(\"Batch_streams\")\n",
    "sparkConf.set(\"spark.driver.memory\", \"2g\")\n",
    "sparkConf.set(\"spark.executor.cores\", \"1\")\n",
    "sparkConf.set(\"spark.driver.cores\", \"1\")\n",
    "\n",
    "# create the spark session, which is the entry point to Spark SQL engine.\n",
    "spark = SparkSession.builder.config(conf=sparkConf).getOrCreate()\n",
    "\n",
    "# We need to set the following configuration whenever we need to use GCS.\n",
    "# Setup hadoop fs configuration for schema gs://\n",
    "conf = spark.sparkContext._jsc.hadoopConfiguration()\n",
    "conf.set(\"fs.gs.impl\", \"com.google.cloud.hadoop.fs.gcs.GoogleHadoopFileSystem\")\n",
    "conf.set(\"fs.AbstractFileSystem.gs.impl\", \"com.google.cloud.hadoop.fs.gcs.GoogleHadoopFS\")\n",
    "\n",
    "# Use the Cloud Storage bucket for temporary BigQuery export data used by the connector.\n",
    "bucket = \"temp_de_jads\"\n",
    "spark.conf.set('temporaryGcsBucket', bucket)\n",
    "\n",
    "schema = StructType([\n",
    "     StructField('size', StringType(), True),\n",
    "     StructField('symbol_id', StringType(), True),\n",
    "     StructField('time_frame', StructType([\n",
    "         StructField('start', TimestampType(), True),\n",
    "         StructField('end', TimestampType(), True)\n",
    "     ]), True),\n",
    "     StructField('count', IntegerType(), True),\n",
    "     StructField('taker_side', StringType(), True),\n",
    "     StructField('broker', StringType(), True),\n",
    "     StructField('symbol_type', StringType(), True),\n",
    "     StructField('asset', StringType(), True),\n",
    "     StructField('asset_quote', StringType(), True)\n",
    "     ])\n",
    "df = spark \\\n",
    "        .readStream \\\n",
    "        .format(\"kafka\") \\\n",
    "        .option(\"kafka.bootstrap.servers\", \"kafka1:9093\") \\\n",
    "        .option(\"subscribe\", \"trades_aggregated\") \\\n",
    "        .option(\"startingOffsets\", \"latest\") \\\n",
    "        .option(\"failOnDataLoss\", \"false\") \\\n",
    "        .load()\n",
    "\n",
    "def write_to_bigquery(df, batch_id):\n",
    "   # Periodically saving the results\n",
    "    df.write.format('bigquery') \\\n",
    "      .option('table', 'glass-sylph-325109.ass2.trades') \\\n",
    "      .mode(\"append\") \\\n",
    "      .save()\n",
    "\n",
    "trades_per_minute = df.select(col('value').cast('string')).select(from_json(col('value'), schema).alias('data')).select('data.*')\n",
    "trades_per_15_minutes = trades_per_minute.drop('symbol_id')\\\n",
    "              .groupBy(window(col('time_frame.end'), '15 minutes'), 'taker_side', 'broker') \\\n",
    "              .agg(sum('size'), sum('count')) \\\n",
    "              .select(col('sum(size)').alias('size'), col('broker'), col('window').alias('time_frame'), col('sum(count)').alias('count'), col('taker_side'))\n",
    "\n",
    "query = trades_per_15_minutes.writeStream \\\n",
    "              .outputMode('complete')\\\n",
    "              .trigger(processingTime='15 minutes')\\\n",
    "              .foreachBatch(write_to_bigquery)\\\n",
    "              .start()\n",
    "query.awaitTermination()"
   ]
  },
  {
   "cell_type": "code",
   "execution_count": null,
   "outputs": [],
   "source": [
    "spark.stop()"
   ],
   "metadata": {
    "collapsed": false,
    "pycharm": {
     "name": "#%%\n"
    }
   }
  }
 ],
 "metadata": {
  "kernelspec": {
   "display_name": "Python 3",
   "language": "python",
   "name": "python3"
  },
  "language_info": {
   "codemirror_mode": {
    "name": "ipython",
    "version": 2
   },
   "file_extension": ".py",
   "mimetype": "text/x-python",
   "name": "python",
   "nbconvert_exporter": "python",
   "pygments_lexer": "ipython2",
   "version": "2.7.6"
  }
 },
 "nbformat": 4,
 "nbformat_minor": 0
}