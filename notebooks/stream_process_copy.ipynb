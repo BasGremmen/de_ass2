{
 "cells": [
  {
   "cell_type": "code",
   "execution_count": null,
   "metadata": {
    "collapsed": true
   },
   "outputs": [],
   "source": [
    "from pyspark import SparkConf\n",
    "from pyspark.sql import SparkSession\n",
    "from pyspark.sql.functions import explode, split, concat, col, lit, from_json, window, sum, to_json, struct\n",
    "from pyspark.sql.functions import slice as F_slice\n",
    "from pyspark.sql.types import StructType, StructField, LongType, StringType, DoubleType, TimestampType, MapType, IntegerType, ArrayType\n",
    "from time import sleep\n",
    "\n",
    "sparkConf = SparkConf()\n",
    "sparkConf.setMaster(\"spark://spark-master:7077\")\n",
    "sparkConf.setAppName(\"Batch_process\")\n",
    "sparkConf.set(\"spark.driver.memory\", \"2g\")\n",
    "sparkConf.set(\"spark.executor.cores\", \"1\")\n",
    "sparkConf.set(\"spark.driver.cores\", \"1\")\n",
    "\n",
    "# create the spark session, which is the entry point to Spark SQL engine.\n",
    "spark = SparkSession.builder.config(conf=sparkConf).getOrCreate()\n",
    "\n",
    "# We need to set the following configuration whenever we need to use GCS.\n",
    "# Setup hadoop fs configuration for schema gs://\n",
    "conf = spark.sparkContext._jsc.hadoopConfiguration()\n",
    "conf.set(\"fs.gs.impl\", \"com.google.cloud.hadoop.fs.gcs.GoogleHadoopFileSystem\")\n",
    "conf.set(\"fs.AbstractFileSystem.gs.impl\", \"com.google.cloud.hadoop.fs.gcs.GoogleHadoopFS\")\n",
    "\n",
    "# Use the Cloud Storage bucket for temporary BigQuery export data used by the connector.\n",
    "bucket = \"temp_de_jads\"\n",
    "spark.conf.set('temporaryGcsBucket', bucket)\n",
    "\n",
    "schema = StructType([\n",
    "     StructField('type', StringType(), True),\n",
    "     StructField('symbol_id', StringType(), True),\n",
    "     StructField('sequence', IntegerType(), True),\n",
    "     StructField('time_exchange', TimestampType(), True),\n",
    "     StructField('time_coinapi', TimestampType(), True),\n",
    "     StructField('uuid', StringType(), True),\n",
    "     StructField('price', DoubleType(), True),\n",
    "     StructField('size', DoubleType(), True),\n",
    "     StructField('taker_side', StringType(), True),\n",
    "     ])\n",
    "symbol_parts = [\"broker\", \"symbol_type\", \"asset\", \"asset_quote\"]\n",
    "df = spark \\\n",
    "        .readStream \\\n",
    "        .format(\"kafka\") \\\n",
    "        .option(\"kafka.bootstrap.servers\", \"kafka1:9093\") \\\n",
    "        .option(\"subscribe\", \"trade\") \\\n",
    "        .option(\"startingOffsets\", \"latest\") \\\n",
    "        .option(\"failOnDataLoss\", \"false\") \\\n",
    "        .load()\n",
    "\n",
    "trades = df.select(col('value').cast('string')).select(from_json(col('value'), schema).alias('data')).select('data.*')\n",
    "\n",
    "reduced_trades = trades.select(['symbol_id', 'time_coinapi', 'size', 'taker_side', 'uuid'])\n",
    "\n",
    "trades_aggregated = reduced_trades.withWatermark('time_coinapi', '1 minutes') \\\n",
    "              .groupBy(window(col('time_coinapi'), '1 minutes'), col('symbol_id'), 'taker_side') \\\n",
    "              .agg(sum(col('size')), count(col('uuid'))) \\\n",
    "              .select(col('sum(size)').alias('size'), col('symbol_id'), col('window').alias('time_frame'), col('count(uuid)').alias('count'), col('taker_side'))\n",
    "\n",
    "trades_symbol_split = trades_aggregated.withColumn('symbol_parts', F_slice(split(col('symbol_id'), '_'), 1, 4))\n",
    "trades_clean = trades_symbol_split\\\n",
    "            .withColumn(\"broker\", col('symbol_parts')[0])\\\n",
    "            .withColumn(\"symbol_type\", col('symbol_parts')[1])\\\n",
    "            .withColumn(\"asset\", col('symbol_parts')[2])\\\n",
    "            .withColumn(\"asset_quote\", col('symbol_parts')[3])\\\n",
    "            .drop('symbol_parts')\\\n",
    "            .select(to_json(struct('*')).alias('value'))\n",
    "\n",
    "query = trades_clean.writeStream \\\n",
    "              .trigger(processingTime='1 minutes')\\\n",
    "              .format(\"kafka\") \\\n",
    "              .option(\"kafka.bootstrap.servers\", \"kafka1:9093\") \\\n",
    "              .option(\"checkpointLocation\", \"/home/jovyan/checkpoint\")\\\n",
    "              .option(\"topic\", \"trades_aggregated\") \\\n",
    "              .outputMode(\"complete\") \\\n",
    "              .start()\n",
    "query.awaitTermination()"
   ]
  },
  {
   "cell_type": "code",
   "execution_count": null,
   "outputs": [],
   "source": [
    "spark.stop()"
   ],
   "metadata": {
    "collapsed": false,
    "pycharm": {
     "name": "#%%\n"
    }
   }
  }
 ],
 "metadata": {
  "kernelspec": {
   "display_name": "Python 3",
   "language": "python",
   "name": "python3"
  },
  "language_info": {
   "codemirror_mode": {
    "name": "ipython",
    "version": 2
   },
   "file_extension": ".py",
   "mimetype": "text/x-python",
   "name": "python",
   "nbconvert_exporter": "python",
   "pygments_lexer": "ipython2",
   "version": "2.7.6"
  }
 },
 "nbformat": 4,
 "nbformat_minor": 0
}